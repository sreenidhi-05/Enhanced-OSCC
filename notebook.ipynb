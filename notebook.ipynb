{
 "cells": [
  {
   "cell_type": "code",
   "execution_count": null,
   "metadata": {
    "_cell_guid": "b1076dfc-b9ad-4769-8c92-a6c4dae69d19",
    "_uuid": "8f2839f25d086af736a60e9eeb907d3b93b6e0e5"
   },
   "outputs": [],
   "source": [
    "import numpy as np \n",
    "import pandas as pd \n",
    "import tensorflow as tf\n",
    "import matplotlib.pyplot as plt\n",
    "import os\n",
    "from tensorflow import keras\n",
    "from tensorflow.keras.preprocessing.image import ImageDataGenerator\n",
    "from tensorflow.keras.models import Sequential\n",
    "from tensorflow.keras.callbacks import  EarlyStopping\n",
    "from tensorflow.keras.layers import (Conv2D, MaxPooling2D, Activation, \n",
    "                                     Flatten, Dense, Dropout, BatchNormalization)\n",
    "\n",
    "from sklearn.metrics import confusion_matrix, classification_report, roc_curve, auc"
   ]
  },
  {
   "cell_type": "code",
   "execution_count": null,
   "metadata": {},
   "outputs": [],
   "source": [
    "dataset_path =\"./Data\"\n",
    "batch_size = 32\n",
    "img_size = (224, 224)\n",
    "channels = 3\n",
    "input_shape = img_size + (channels,)"
   ]
  },
  {
   "cell_type": "code",
   "execution_count": null,
   "metadata": {},
   "outputs": [],
   "source": [
    "from tensorflow.keras.models import Sequential\n",
    "from tensorflow.keras.layers import (\n",
    "    Conv2D, BatchNormalization, MaxPooling2D, Activation,\n",
    "    Dropout, GlobalAveragePooling2D, Dense\n",
    ")\n",
    "from tensorflow.keras.optimizers import Adam\n",
    "\n",
    "# Define the model\n",
    "model = Sequential()\n",
    "\n",
    "# 1st Convolutional Block\n",
    "model.add(Conv2D(32, (3, 3), padding='same', input_shape=(224, 224, 3)))\n",
    "model.add(BatchNormalization())\n",
    "model.add(Activation('relu'))\n",
    "model.add(Conv2D(32, (3, 3), padding='same'))\n",
    "model.add(BatchNormalization())\n",
    "model.add(Activation('relu'))\n",
    "model.add(MaxPooling2D(pool_size=(2, 2)))\n",
    "model.add(Dropout(0.15))  # Lower dropout to retain features\n",
    "\n",
    "# 2nd Convolutional Block\n",
    "model.add(Conv2D(64, (3, 3), padding='same'))\n",
    "model.add(BatchNormalization())\n",
    "model.add(Activation('relu'))\n",
    "model.add(Conv2D(64, (3, 3), padding='same'))\n",
    "model.add(BatchNormalization())\n",
    "model.add(Activation('relu'))\n",
    "model.add(MaxPooling2D(pool_size=(2, 2)))\n",
    "model.add(Dropout(0.2))\n",
    "\n",
    "# 3rd Convolutional Block\n",
    "model.add(Conv2D(128, (3, 3), padding='same'))\n",
    "model.add(BatchNormalization())\n",
    "model.add(Activation('relu'))\n",
    "model.add(Conv2D(128, (3, 3), padding='same'))\n",
    "model.add(BatchNormalization())\n",
    "model.add(Activation('relu'))\n",
    "model.add(Conv2D(128, (3, 3), padding='same'))\n",
    "model.add(BatchNormalization())\n",
    "model.add(Activation('relu'))\n",
    "model.add(MaxPooling2D(pool_size=(2, 2)))\n",
    "model.add(Dropout(0.25))\n",
    "\n",
    "# 4th Convolutional Block\n",
    "model.add(Conv2D(256, (3, 3), padding='same'))\n",
    "model.add(BatchNormalization())\n",
    "model.add(Activation('relu'))\n",
    "model.add(Conv2D(256, (3, 3), padding='same'))\n",
    "model.add(BatchNormalization())\n",
    "model.add(Activation('relu'))\n",
    "model.add(MaxPooling2D(pool_size=(2, 2)))\n",
    "model.add(Dropout(0.3))\n",
    "\n",
    "# 5th Convolutional Block (Added for more depth)\n",
    "model.add(Conv2D(512, (3, 3), padding='same'))\n",
    "model.add(BatchNormalization())\n",
    "model.add(Activation('relu'))\n",
    "model.add(MaxPooling2D(pool_size=(2, 2)))\n",
    "model.add(Dropout(0.3))\n",
    "\n",
    "# Replacing Flatten with GlobalAveragePooling\n",
    "model.add(GlobalAveragePooling2D())\n",
    "\n",
    "# Fully Connected Layer\n",
    "model.add(Dense(256))  # Increased neurons\n",
    "model.add(BatchNormalization())\n",
    "model.add(Activation('relu'))\n",
    "\n",
    "#output layer\n",
    "model.add(Dense(1, activation='sigmoid'))\n",
    "\n",
    "optimizer = Adam(learning_rate=0.0001)\n",
    "model.compile(\n",
    "    optimizer=optimizer,\n",
    "    loss='binary_crossentropy',\n",
    "    metrics=['accuracy']\n",
    ")\n",
    "model.summary()"
   ]
  },
  {
   "cell_type": "code",
   "execution_count": null,
   "metadata": {},
   "outputs": [],
   "source": [
    "tr_gen = ImageDataGenerator(rescale=1.0 / 255)\n",
    "val_gen = ImageDataGenerator(rescale=1.0 / 255)\n",
    "ts_gen = ImageDataGenerator(rescale=1.0 / 255)\n",
    "\n",
    "train_gen = tr_gen.flow_from_directory(\n",
    "    os.path.join(dataset_path, \"train\"),\n",
    "    target_size=img_size,\n",
    "    batch_size=batch_size,\n",
    "    class_mode=\"binary\",\n",
    "    color_mode=\"rgb\",\n",
    "    shuffle=True,\n",
    ")\n",
    "\n",
    "val_gen = val_gen.flow_from_directory(\n",
    "    os.path.join(dataset_path, \"val\"),\n",
    "    target_size=img_size,\n",
    "    batch_size=batch_size,\n",
    "    class_mode=\"binary\",\n",
    "    color_mode=\"rgb\",\n",
    "    shuffle=True,\n",
    ")\n",
    "\n",
    "test_gen = ts_gen.flow_from_directory(\n",
    "    os.path.join(dataset_path, \"test\"),\n",
    "    target_size=img_size,\n",
    "    batch_size=batch_size,\n",
    "    class_mode=\"binary\",\n",
    "    color_mode=\"rgb\",\n",
    "    shuffle=False,\n",
    ")"
   ]
  },
  {
   "cell_type": "code",
   "execution_count": null,
   "metadata": {},
   "outputs": [],
   "source": [
    "from tensorflow.keras.callbacks import EarlyStopping\n",
    "early_stopping = EarlyStopping(monitor='val_loss', patience=5, restore_best_weights=True)"
   ]
  },
  {
   "cell_type": "code",
   "execution_count": null,
   "metadata": {},
   "outputs": [],
   "source": [
    "model.compile(optimizer='adam', loss='binary_crossentropy', metrics=['accuracy'])"
   ]
  },
  {
   "cell_type": "code",
   "execution_count": null,
   "metadata": {},
   "outputs": [],
   "source": [
    "history=model.fit(train_gen, validation_data=val_gen, epochs=10,callbacks=[early_stopping])"
   ]
  },
  {
   "cell_type": "code",
   "execution_count": null,
   "metadata": {},
   "outputs": [],
   "source": [
    "def evaluate_model(model, train_gen, val_gen, test_gen, history):\n",
    "    train_res = model.evaluate(train_gen)\n",
    "    train_accuracy = train_res[1]\n",
    "    print(f\"Training Accuracy: {train_accuracy * 100:.2f}%\")\n",
    "    \n",
    "    val_res = model.evaluate(val_gen)\n",
    "    val_accuracy = val_res[1]\n",
    "    print(f\"Validation Accuracy: {val_accuracy * 100:.2f}%\")\n",
    "    \n",
    "    test_res = model.evaluate(test_gen)\n",
    "    test_accuracy = test_res[1]\n",
    "    print(f\"Test Accuracy: {test_accuracy * 100:.2f}%\")\n",
    "    \n",
    "    y_true = test_gen.classes\n",
    "    y_pred_prob = model.predict(test_gen)\n",
    "    \n",
    "    if y_pred_prob.shape[1] > 1:\n",
    "        y_pred = np.argmax(y_pred_prob, axis=1)\n",
    "    else:\n",
    "        y_pred = (y_pred_prob > 0.5).astype(int).flatten()\n",
    "    \n",
    "    cm = confusion_matrix(y_true, y_pred)\n",
    "    plt.figure(figsize=(6, 5))\n",
    "    sns.heatmap(cm, annot=True, fmt=\"d\", cmap=\"Blues\", \n",
    "                xticklabels=test_gen.class_indices.keys(), \n",
    "                yticklabels=test_gen.class_indices.keys())\n",
    "    plt.xlabel(\"Predicted Label\")\n",
    "    plt.ylabel(\"True Label\")\n",
    "    plt.title(\"Confusion Matrix\")\n",
    "    plt.show()\n",
    "    \n",
    "    print(\"Classification Report:\\n\", classification_report(y_true, y_pred, target_names=test_gen.class_indices.keys()))\n",
    "    \n",
    "    if history is not None:\n",
    "        plt.figure(figsize=(8, 6))\n",
    "        plt.plot(history.history.get('loss', []), label='Train Loss', marker='o')\n",
    "        plt.plot(history.history.get('val_loss', []), label='Validation Loss', marker='s')\n",
    "        plt.title('Model Loss')\n",
    "        plt.ylabel('Loss')\n",
    "        plt.xlabel('Epoch')\n",
    "        plt.legend()\n",
    "        plt.grid()\n",
    "        plt.show()\n",
    "    \n",
    "    if y_pred_prob.shape[1] == 1:\n",
    "        fpr, tpr, _ = roc_curve(y_true, y_pred_prob)\n",
    "        roc_auc = auc(fpr, tpr)\n",
    "        plt.figure(figsize=(8, 6))\n",
    "        plt.plot(fpr, tpr, color=\"blue\", lw=2, label=f\"ROC Curve (AUC = {roc_auc:.2f})\")\n",
    "        plt.plot([0, 1], [0, 1], color=\"gray\", linestyle=\"--\")\n",
    "        plt.xlabel(\"False Positive Rate\")\n",
    "        plt.ylabel(\"True Positive Rate\")\n",
    "        plt.title(\"ROC Curve\")\n",
    "        plt.legend(loc=\"lower right\")\n",
    "        plt.show()\n"
   ]
  },
  {
   "cell_type": "code",
   "execution_count": null,
   "metadata": {},
   "outputs": [],
   "source": [
    "import seaborn as sns\n",
    "evaluate_model(model, train_gen, val_gen, test_gen, history)"
   ]
  },
  {
   "cell_type": "code",
   "execution_count": null,
   "metadata": {},
   "outputs": [],
   "source": [
    "model.save(\"App/own_CNN.keras\", save_format=\"keras\")\n",
    "print(\"Model saved as App/own_CNN.keras\")\n"
   ]
  },
  {
   "cell_type": "markdown",
   "metadata": {},
   "source": []
  },
  {
   "cell_type": "code",
   "execution_count": null,
   "metadata": {},
   "outputs": [],
   "source": []
  },
  {
   "cell_type": "code",
   "execution_count": null,
   "metadata": {},
   "outputs": [],
   "source": []
  }
 ],
 "metadata": {
  "kaggle": {
   "accelerator": "nvidiaTeslaT4",
   "dataSources": [
    {
     "datasetId": 6975943,
     "sourceId": 11176847,
     "sourceType": "datasetVersion"
    }
   ],
   "dockerImageVersionId": 30919,
   "isGpuEnabled": true,
   "isInternetEnabled": true,
   "language": "python",
   "sourceType": "notebook"
  },
  "kernelspec": {
   "display_name": "Python 3 (ipykernel)",
   "language": "python",
   "name": "python3"
  },
  "language_info": {
   "codemirror_mode": {
    "name": "ipython",
    "version": 3
   },
   "file_extension": ".py",
   "mimetype": "text/x-python",
   "name": "python",
   "nbconvert_exporter": "python",
   "pygments_lexer": "ipython3",
   "version": "3.12.6"
  }
 },
 "nbformat": 4,
 "nbformat_minor": 4
}
